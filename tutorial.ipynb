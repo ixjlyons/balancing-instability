{
 "cells": [
  {
   "cell_type": "markdown",
   "metadata": {},
   "source": [
    "# Simulating Continuous-Time Systems"
   ]
  },
  {
   "cell_type": "markdown",
   "metadata": {},
   "source": [
    "We'll start by just importing some things we'll need later."
   ]
  },
  {
   "cell_type": "code",
   "execution_count": 1,
   "metadata": {
    "collapsed": true
   },
   "outputs": [],
   "source": [
    "%matplotlib inline\n",
    "import numpy as np\n",
    "from scipy.integrate import odeint\n",
    "import matplotlib.pyplot as plt"
   ]
  },
  {
   "cell_type": "markdown",
   "metadata": {},
   "source": [
    "## Simple System\n",
    "\n",
    "Consider the simple second-order system corresponding to a mass on a linear spring and damper:\n",
    "\n",
    "$$\n",
    "\\ddot{x} + \\frac{b}{m} \\dot{x} + \\frac{k}{m} x = 0\n",
    "$$\n",
    "\n",
    "We need to convert this to a system of first-order differential equations. That is, we need a set of equations where we have the first derivative of a variable on the left hand side, and everything on the right hand side is a function only of those variables on the left hand side -- no derivatives. These variables will be called state variables. Let $x_1 = x$ and $x_2 = \\dot{x}$. Now, notice that:\n",
    "\n",
    "$$\\dot{x}_1 = \\dot{x} = x_2$$\n",
    "\n",
    "$$\n",
    "\\begin{eqnarray}\n",
    "\\dot{x}_2 &=& \\ddot{x}\\\\\n",
    "          &=& -\\frac{b}{m} \\dot{x} - \\frac{k}{m} x\\\\\n",
    "          &=& -\\frac{b}{m} x_2 - \\frac{k}{m} x_1\n",
    "\\end{eqnarray}\n",
    "$$"
   ]
  },
  {
   "cell_type": "code",
   "execution_count": 2,
   "metadata": {
    "collapsed": false
   },
   "outputs": [],
   "source": [
    "def msd_eqns(x, t, m, b, k):\n",
    "    # unpack the variables to make the equations clearer\n",
    "    x1, x2 = x\n",
    "    \n",
    "    # first derivative of x1\n",
    "    d_x1 = x2\n",
    "    # first derivative of x2\n",
    "    d_x2 = -(b/m)*x2 - (k/m)*x1\n",
    "    \n",
    "    # return deriviatives of the state variables\n",
    "    return d_x1, d_x2"
   ]
  },
  {
   "cell_type": "markdown",
   "metadata": {},
   "source": [
    "Actually simulate the system."
   ]
  },
  {
   "cell_type": "code",
   "execution_count": 3,
   "metadata": {
    "collapsed": false
   },
   "outputs": [
    {
     "data": {
      "text/plain": [
       "[<matplotlib.lines.Line2D at 0x7f3fc11a2400>]"
      ]
     },
     "execution_count": 3,
     "metadata": {},
     "output_type": "execute_result"
    },
    {
     "data": {
      "image/png": "[encoded data removed]",
      "text/plain": [
       "<matplotlib.figure.Figure at 0x7f3fc1f14128>"
      ]
     },
     "metadata": {},
     "output_type": "display_data"
    }
   ],
   "source": [
    "# initial conditions -- we'll set an initial position (x1)\n",
    "xi = [1, 0]\n",
    "t = np.linspace(0, 10, 1000)\n",
    "x = odeint(msd_eqns, xi, t, args=(1, 1, 100))\n",
    "\n",
    "plt.plot(t, x[:, 0])"
   ]
  },
  {
   "cell_type": "markdown",
   "metadata": {},
   "source": [
    "## Higher-Order System\n",
    "\n",
    "Here, we'll see how to simulate a more complicated example, which is the second simulation from the paper. The governing differential equations are:\n",
    "\n",
    "$$\n",
    "\\ddot{x} + \\left( \\mu_0 - \\mu \\right) \\dot{x} + \\lambda \\dot{x}^3 + \\omega^2 x = 0\n",
    "$$\n",
    "\n",
    "$$\n",
    "\\dot{\\mu} = \\frac{1}{1 + x^2 + (\\dot{x}/\\omega)^2} - \\mu + \\frac{1}{2}\n",
    "$$\n",
    "\n",
    "\n",
    "Similarly to the mass-spring-damper system, we'll define variables $x_1$ and $x_2$ to rewrite these equations as state equations.\n",
    "\n",
    "$$\\dot{x}_1 = \\dot{x} = x_2$$\n",
    "\n",
    "$$\n",
    "\\begin{eqnarray}\n",
    "\\dot{x}_2 &=& \\ddot{x}\\\\\n",
    "          &=& -\\left( \\mu_0 - \\mu \\right) \\dot{x} - \\lambda \\dot{x}^3 - \\omega^2 x\\\\\n",
    "          &=& -\\left( \\mu_0 - \\mu \\right) x_2 - \\lambda x_2^3 - \\omega^2 x_1\n",
    "\\end{eqnarray}\n",
    "$$\n",
    "\n",
    "$$\n",
    "\\dot{\\mu} = \\frac{1}{1 + x_1^2 + (x_2/\\omega)^2} - \\mu - \\frac{1}{2}\n",
    "$$\n",
    "\n",
    "Let's write a function that takes in the current state variables (in a vector), the current time, and some parameters needed."
   ]
  },
  {
   "cell_type": "code",
   "execution_count": 4,
   "metadata": {
    "collapsed": true
   },
   "outputs": [],
   "source": [
    "def oscillator_eqns(x, t, mu0, lam, om):\n",
    "    # unpack the variables to make the equations clearer\n",
    "    x1, x2, mu = x\n",
    "    \n",
    "    # first derivative of x1\n",
    "    d_x1 = x2\n",
    "    # first derivative of x2\n",
    "    d_x2 = -(mu0 - mu)*x2 - lam*x2**3 - om**2*x1\n",
    "    # first derivative of mu\n",
    "    d_mu = 1/(1 + x1**2 + (x2/om)**2) - mu + 0.5\n",
    "    \n",
    "    # return deriviatives of the state variables\n",
    "    return d_x1, d_x2, d_mu"
   ]
  },
  {
   "cell_type": "markdown",
   "metadata": {},
   "source": [
    "And let's simulate it."
   ]
  },
  {
   "cell_type": "code",
   "execution_count": 5,
   "metadata": {
    "collapsed": false
   },
   "outputs": [
    {
     "data": {
      "text/plain": [
       "[<matplotlib.lines.Line2D at 0x7f3fc113cc50>]"
      ]
     },
     "execution_count": 5,
     "metadata": {},
     "output_type": "execute_result"
    },
    {
     "data": {
      "image/png": "[encoded data removed]",
      "text/plain": [
       "<matplotlib.figure.Figure at 0x7f3fc115c080>"
      ]
     },
     "metadata": {},
     "output_type": "display_data"
    }
   ],
   "source": [
    "# give the system an initial velocity and intentionally mis-tune it\n",
    "xi = [0, 0.3, -9]\n",
    "t = np.linspace(0, 35, 1000)\n",
    "x = odeint(oscillator_eqns, xi, t, args=(1, 1, 1))\n",
    "\n",
    "plt.plot(t, x[:, 0])"
   ]
  },
  {
   "cell_type": "markdown",
   "metadata": {},
   "source": [
    "## Impulsive Input\n",
    "\n",
    "When we have impulsive inputs, the simulation method we've been using doesn't work so well. The function `odeint` actually doesn't obey the time array we pass to it (it uses an algorithm to determine how small to make the time step, and parameters for this algorithm are optional arguments for `odeint`). So if you have an input at $t = t_{\\text{imp}}$, you can't rely on the time value passed to your equations function to determine if the input should happen now. However, even if you used a fixed time-step integration technique, the impulsive input will be problematic. Underlyingly, this is because a true impulse in continuous time is unrealizable. It's effect is to instantaneously bring the system to a certain condition. So if we are simulating by specifying the first derivative, there's no way for us to set the first derivative such that the system will be at the correct state at the next time step.\n",
    "\n",
    "What we do instead is simulate the un-forced response of the system between the impulses. In the case of the first simulation from the paper, this is pretty easy because the input is periodic. At an input time step, we set the initial conditions of the system as they were before the input plus the effect of the impulse, then run the simulation until the next input comes along.\n",
    "\n",
    "The equations for this system are already first-order equations, and we're going to ignore the input $u(t)$:\n",
    "\n",
    "$$\n",
    "\\dot{x} = -\\mu_0 x + \\mu x\n",
    "$$\n",
    "\n",
    "$$\n",
    "\\dot{\\mu} = \\varepsilon \\left( -a x - b \\mu + c \\right)\n",
    "$$\n",
    "\n",
    "Here's the function implementing these equations."
   ]
  },
  {
   "cell_type": "code",
   "execution_count": 6,
   "metadata": {
    "collapsed": true
   },
   "outputs": [],
   "source": [
    "def integrator_eqns(x, t, mu0, eps, a, b, c):\n",
    "    # unpack the variables to make the equations clearer\n",
    "    x1, mu = x\n",
    "    \n",
    "    # first derivative of x1\n",
    "    d_x1 = (mu - mu0)*x1\n",
    "    # first derivative of mu\n",
    "    d_mu = eps * (-a*x1 - b*mu + c)\n",
    "    \n",
    "    # return deriviatives of the state variables\n",
    "    return d_x1, d_mu"
   ]
  },
  {
   "cell_type": "markdown",
   "metadata": {},
   "source": [
    "The input will come in at every second, alternating between setting $x$ to 20 and 60 (starting at $t = 0$ by setting the initial state to 20). We'll make this input period a variable, so our simulation works more generally (in case we want to try it with 2 seconds between inuts, for example). Since the $x$ state is going to be set directly at the beginning of each simulation stage but $\\mu$ is not, we keep the value of $\\mu$ from the end of the previous stage and set it as the initial condition for the next stage. Here's the implementation."
   ]
  },
  {
   "cell_type": "code",
   "execution_count": 7,
   "metadata": {
    "collapsed": false
   },
   "outputs": [
    {
     "data": {
      "text/plain": [
       "[<matplotlib.lines.Line2D at 0x7f3fc10b1b38>]"
      ]
     },
     "execution_count": 7,
     "metadata": {},
     "output_type": "execute_result"
    },
    {
     "data": {
      "image/png": "[encoded data removed]",
      "text/plain": [
       "<matplotlib.figure.Figure at 0x7f3fc11e12b0>"
      ]
     },
     "metadata": {},
     "output_type": "display_data"
    }
   ],
   "source": [
    "T = 20\n",
    "T_input = 1\n",
    "dt = 0.001\n",
    "\n",
    "x = np.zeros((int(T/dt), 3))\n",
    "mu = 199\n",
    "for i, ti in enumerate(range(0, T, T_input)):\n",
    "    t = np.arange(ti, ti+T_input, dt)\n",
    "    \n",
    "    # alternate between low and high desired state\n",
    "    xdes = 20 if i % 2 == 0 else 60\n",
    "    xt = odeint(integrator_eqns, [xdes, mu], t, args=(200, 0.01, 1, 0.01, 42))\n",
    "    \n",
    "    ind = range(i*len(t), (i+1)*len(t))\n",
    "    x[ind, 0] = t\n",
    "    x[ind, 1:] = xt\n",
    "    mu = xt[-1, 1]\n",
    "    \n",
    "plt.plot(x[:, 0], x[:, 1])"
   ]
  },
  {
   "cell_type": "code",
   "execution_count": null,
   "metadata": {
    "collapsed": true
   },
   "outputs": [],
   "source": []
  }
 ],
 "metadata": {
  "kernelspec": {
   "display_name": "Python 3",
   "language": "python",
   "name": "python3"
  },
  "language_info": {
   "codemirror_mode": {
    "name": "ipython",
    "version": 3
   },
   "file_extension": ".py",
   "mimetype": "text/x-python",
   "name": "python",
   "nbconvert_exporter": "python",
   "pygments_lexer": "ipython3",
   "version": "3.5.1"
  }
 },
 "nbformat": 4,
 "nbformat_minor": 0
}
